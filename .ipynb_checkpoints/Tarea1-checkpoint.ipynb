{
 "cells": [
  {
   "cell_type": "code",
   "execution_count": 20,
   "id": "7dc275fb-d2ce-4d11-8236-6c093f9cb8a3",
   "metadata": {},
   "outputs": [
    {
     "name": "stdout",
     "output_type": "stream",
     "text": [
      "Requirement already satisfied: pandas in c:\\users\\salas\\miniforge3\\lib\\site-packages (2.2.2)\n",
      "Requirement already satisfied: numpy in c:\\users\\salas\\miniforge3\\lib\\site-packages (2.1.1)\n",
      "Requirement already satisfied: seaborn in c:\\users\\salas\\miniforge3\\lib\\site-packages (0.13.2)\n",
      "Requirement already satisfied: matplotlib in c:\\users\\salas\\miniforge3\\lib\\site-packages (3.9.2)\n",
      "Requirement already satisfied: python-dateutil>=2.8.2 in c:\\users\\salas\\miniforge3\\lib\\site-packages (from pandas) (2.9.0.post0)\n",
      "Requirement already satisfied: pytz>=2020.1 in c:\\users\\salas\\miniforge3\\lib\\site-packages (from pandas) (2024.1)\n",
      "Requirement already satisfied: tzdata>=2022.7 in c:\\users\\salas\\miniforge3\\lib\\site-packages (from pandas) (2024.1)\n",
      "Requirement already satisfied: contourpy>=1.0.1 in c:\\users\\salas\\miniforge3\\lib\\site-packages (from matplotlib) (1.3.0)\n",
      "Requirement already satisfied: cycler>=0.10 in c:\\users\\salas\\miniforge3\\lib\\site-packages (from matplotlib) (0.12.1)\n",
      "Requirement already satisfied: fonttools>=4.22.0 in c:\\users\\salas\\miniforge3\\lib\\site-packages (from matplotlib) (4.53.1)\n",
      "Requirement already satisfied: kiwisolver>=1.3.1 in c:\\users\\salas\\miniforge3\\lib\\site-packages (from matplotlib) (1.4.7)\n",
      "Requirement already satisfied: packaging>=20.0 in c:\\users\\salas\\miniforge3\\lib\\site-packages (from matplotlib) (24.0)\n",
      "Requirement already satisfied: pillow>=8 in c:\\users\\salas\\miniforge3\\lib\\site-packages (from matplotlib) (10.4.0)\n",
      "Requirement already satisfied: pyparsing>=2.3.1 in c:\\users\\salas\\miniforge3\\lib\\site-packages (from matplotlib) (3.1.4)\n",
      "Requirement already satisfied: six>=1.5 in c:\\users\\salas\\miniforge3\\lib\\site-packages (from python-dateutil>=2.8.2->pandas) (1.16.0)\n",
      "Requirement already satisfied: pandas in c:\\users\\salas\\miniforge3\\lib\\site-packages (2.2.2)\n",
      "Requirement already satisfied: numpy in c:\\users\\salas\\miniforge3\\lib\\site-packages (2.1.1)\n",
      "Requirement already satisfied: matplotlib in c:\\users\\salas\\miniforge3\\lib\\site-packages (3.9.2)\n",
      "Requirement already satisfied: seaborn in c:\\users\\salas\\miniforge3\\lib\\site-packages (0.13.2)\n",
      "Requirement already satisfied: scikit-learn in c:\\users\\salas\\miniforge3\\lib\\site-packages (1.5.1)\n",
      "Requirement already satisfied: python-dateutil>=2.8.2 in c:\\users\\salas\\miniforge3\\lib\\site-packages (from pandas) (2.9.0.post0)\n",
      "Requirement already satisfied: pytz>=2020.1 in c:\\users\\salas\\miniforge3\\lib\\site-packages (from pandas) (2024.1)\n",
      "Requirement already satisfied: tzdata>=2022.7 in c:\\users\\salas\\miniforge3\\lib\\site-packages (from pandas) (2024.1)\n",
      "Requirement already satisfied: contourpy>=1.0.1 in c:\\users\\salas\\miniforge3\\lib\\site-packages (from matplotlib) (1.3.0)\n",
      "Requirement already satisfied: cycler>=0.10 in c:\\users\\salas\\miniforge3\\lib\\site-packages (from matplotlib) (0.12.1)\n",
      "Requirement already satisfied: fonttools>=4.22.0 in c:\\users\\salas\\miniforge3\\lib\\site-packages (from matplotlib) (4.53.1)\n",
      "Requirement already satisfied: kiwisolver>=1.3.1 in c:\\users\\salas\\miniforge3\\lib\\site-packages (from matplotlib) (1.4.7)\n",
      "Requirement already satisfied: packaging>=20.0 in c:\\users\\salas\\miniforge3\\lib\\site-packages (from matplotlib) (24.0)\n",
      "Requirement already satisfied: pillow>=8 in c:\\users\\salas\\miniforge3\\lib\\site-packages (from matplotlib) (10.4.0)\n",
      "Requirement already satisfied: pyparsing>=2.3.1 in c:\\users\\salas\\miniforge3\\lib\\site-packages (from matplotlib) (3.1.4)\n",
      "Requirement already satisfied: scipy>=1.6.0 in c:\\users\\salas\\miniforge3\\lib\\site-packages (from scikit-learn) (1.14.1)\n",
      "Requirement already satisfied: joblib>=1.2.0 in c:\\users\\salas\\miniforge3\\lib\\site-packages (from scikit-learn) (1.4.2)\n",
      "Requirement already satisfied: threadpoolctl>=3.1.0 in c:\\users\\salas\\miniforge3\\lib\\site-packages (from scikit-learn) (3.5.0)\n",
      "Requirement already satisfied: six>=1.5 in c:\\users\\salas\\miniforge3\\lib\\site-packages (from python-dateutil>=2.8.2->pandas) (1.16.0)\n"
     ]
    }
   ],
   "source": [
    "!pip install pandas numpy seaborn matplotlib\n",
    "!pip install pandas numpy matplotlib seaborn scikit-learn\n",
    "\n"
   ]
  },
  {
   "cell_type": "code",
   "execution_count": 24,
   "id": "7cfefec8-dd3a-436f-a9c9-a16cc21383de",
   "metadata": {},
   "outputs": [
    {
     "ename": "AttributeError",
     "evalue": "'DataFrame' object has no attribute 'media'",
     "output_type": "error",
     "traceback": [
      "\u001b[1;31m---------------------------------------------------------------------------\u001b[0m",
      "\u001b[1;31mAttributeError\u001b[0m                            Traceback (most recent call last)",
      "\u001b[1;32m~\\AppData\\Local\\Temp\\ipykernel_24936\\2865892876.py\u001b[0m in \u001b[0;36m?\u001b[1;34m()\u001b[0m\n\u001b[0;32m     25\u001b[0m \u001b[1;33m\u001b[0m\u001b[0m\n\u001b[0;32m     26\u001b[0m \u001b[0mdf\u001b[0m \u001b[1;33m=\u001b[0m \u001b[0mpd\u001b[0m\u001b[1;33m.\u001b[0m\u001b[0mDataFrame\u001b[0m\u001b[1;33m(\u001b[0m\u001b[0mdata\u001b[0m\u001b[1;33m)\u001b[0m\u001b[1;33m\u001b[0m\u001b[1;33m\u001b[0m\u001b[0m\n\u001b[0;32m     27\u001b[0m \u001b[1;33m\u001b[0m\u001b[0m\n\u001b[0;32m     28\u001b[0m \u001b[1;31m# Cálculo de media, mediana y desviación estándar para las variables numéricas\u001b[0m\u001b[1;33m\u001b[0m\u001b[1;33m\u001b[0m\u001b[0m\n\u001b[1;32m---> 29\u001b[1;33m \u001b[0mmedia\u001b[0m \u001b[1;33m=\u001b[0m \u001b[0mdf\u001b[0m\u001b[1;33m[\u001b[0m\u001b[1;33m[\u001b[0m\u001b[1;34m'GDP (USD Billion)'\u001b[0m\u001b[1;33m,\u001b[0m \u001b[1;34m'Population (Millions)'\u001b[0m\u001b[1;33m,\u001b[0m \u001b[1;34m'Unemployment Rate (%)'\u001b[0m\u001b[1;33m,\u001b[0m \u001b[1;34m'Average Age'\u001b[0m\u001b[1;33m,\u001b[0m \u001b[1;34m'Women (%)'\u001b[0m\u001b[1;33m,\u001b[0m \u001b[1;34m'Men (%)'\u001b[0m\u001b[1;33m,\u001b[0m \u001b[1;34m'Budget (USD Billion)'\u001b[0m\u001b[1;33m]\u001b[0m\u001b[1;33m]\u001b[0m\u001b[1;33m.\u001b[0m\u001b[0mmedia\u001b[0m\u001b[1;33m(\u001b[0m\u001b[1;33m)\u001b[0m\u001b[1;33m\u001b[0m\u001b[1;33m\u001b[0m\u001b[0m\n\u001b[0m\u001b[0;32m     30\u001b[0m \u001b[0mmediana\u001b[0m \u001b[1;33m=\u001b[0m \u001b[0mdf\u001b[0m\u001b[1;33m[\u001b[0m\u001b[1;33m[\u001b[0m\u001b[1;34m'GDP (USD Billion)'\u001b[0m\u001b[1;33m,\u001b[0m \u001b[1;34m'Population (Millions)'\u001b[0m\u001b[1;33m,\u001b[0m \u001b[1;34m'Unemployment Rate (%)'\u001b[0m\u001b[1;33m,\u001b[0m \u001b[1;34m'Average Age'\u001b[0m\u001b[1;33m,\u001b[0m \u001b[1;34m'Women (%)'\u001b[0m\u001b[1;33m,\u001b[0m \u001b[1;34m'Men (%)'\u001b[0m\u001b[1;33m,\u001b[0m \u001b[1;34m'Budget (USD Billion)'\u001b[0m\u001b[1;33m]\u001b[0m\u001b[1;33m]\u001b[0m\u001b[1;33m.\u001b[0m\u001b[0mmediana\u001b[0m\u001b[1;33m(\u001b[0m\u001b[1;33m)\u001b[0m\u001b[1;33m\u001b[0m\u001b[1;33m\u001b[0m\u001b[0m\n\u001b[0;32m     31\u001b[0m \u001b[0mdesviacionEstandar\u001b[0m \u001b[1;33m=\u001b[0m \u001b[0mdf\u001b[0m\u001b[1;33m[\u001b[0m\u001b[1;33m[\u001b[0m\u001b[1;34m'GDP (USD Billion)'\u001b[0m\u001b[1;33m,\u001b[0m \u001b[1;34m'Population (Millions)'\u001b[0m\u001b[1;33m,\u001b[0m \u001b[1;34m'Unemployment Rate (%)'\u001b[0m\u001b[1;33m,\u001b[0m \u001b[1;34m'Average Age'\u001b[0m\u001b[1;33m,\u001b[0m \u001b[1;34m'Women (%)'\u001b[0m\u001b[1;33m,\u001b[0m \u001b[1;34m'Men (%)'\u001b[0m\u001b[1;33m,\u001b[0m \u001b[1;34m'Budget (USD Billion)'\u001b[0m\u001b[1;33m]\u001b[0m\u001b[1;33m]\u001b[0m\u001b[1;33m.\u001b[0m\u001b[0mdesviacionEstandar\u001b[0m\u001b[1;33m(\u001b[0m\u001b[1;33m)\u001b[0m\u001b[1;33m\u001b[0m\u001b[1;33m\u001b[0m\u001b[0m\n\u001b[0;32m     32\u001b[0m \u001b[1;33m\u001b[0m\u001b[0m\n",
      "\u001b[1;32m~\\miniforge3\\lib\\site-packages\\pandas\\core\\generic.py\u001b[0m in \u001b[0;36m?\u001b[1;34m(self, name)\u001b[0m\n\u001b[0;32m   6295\u001b[0m             \u001b[1;32mand\u001b[0m \u001b[0mname\u001b[0m \u001b[1;32mnot\u001b[0m \u001b[1;32min\u001b[0m \u001b[0mself\u001b[0m\u001b[1;33m.\u001b[0m\u001b[0m_accessors\u001b[0m\u001b[1;33m\u001b[0m\u001b[1;33m\u001b[0m\u001b[0m\n\u001b[0;32m   6296\u001b[0m             \u001b[1;32mand\u001b[0m \u001b[0mself\u001b[0m\u001b[1;33m.\u001b[0m\u001b[0m_info_axis\u001b[0m\u001b[1;33m.\u001b[0m\u001b[0m_can_hold_identifiers_and_holds_name\u001b[0m\u001b[1;33m(\u001b[0m\u001b[0mname\u001b[0m\u001b[1;33m)\u001b[0m\u001b[1;33m\u001b[0m\u001b[1;33m\u001b[0m\u001b[0m\n\u001b[0;32m   6297\u001b[0m         ):\n\u001b[0;32m   6298\u001b[0m             \u001b[1;32mreturn\u001b[0m \u001b[0mself\u001b[0m\u001b[1;33m[\u001b[0m\u001b[0mname\u001b[0m\u001b[1;33m]\u001b[0m\u001b[1;33m\u001b[0m\u001b[1;33m\u001b[0m\u001b[0m\n\u001b[1;32m-> 6299\u001b[1;33m         \u001b[1;32mreturn\u001b[0m \u001b[0mobject\u001b[0m\u001b[1;33m.\u001b[0m\u001b[0m__getattribute__\u001b[0m\u001b[1;33m(\u001b[0m\u001b[0mself\u001b[0m\u001b[1;33m,\u001b[0m \u001b[0mname\u001b[0m\u001b[1;33m)\u001b[0m\u001b[1;33m\u001b[0m\u001b[1;33m\u001b[0m\u001b[0m\n\u001b[0m",
      "\u001b[1;31mAttributeError\u001b[0m: 'DataFrame' object has no attribute 'media'"
     ]
    }
   ],
   "source": [
    "# Importación de bibliotecas necesarias\n",
    "import pandas as pd\n",
    "import numpy as np\n",
    "import matplotlib.pyplot as plt\n",
    "import seaborn as sns\n",
    "from sklearn.decomposition import PCA\n",
    "\n",
    "# 1. Cargar los datos\n",
    "data = {\n",
    "    'City': ['Bogotá', 'Medellín', 'Cali', 'Barranquilla', 'Cartagena', 'Bucaramanga', 'Pereira', 'Cúcuta', 'Ibagué', 'Santa Marta', \n",
    "             'Manizales', 'Villavicencio', 'Pasto', 'Montería', 'Valledupar', 'Neiva', 'Popayán', 'Armenia', 'Sincelejo', 'Tunja', \n",
    "             'Florencia', 'Riohacha', 'Quibdó', 'San Andrés', 'Yopal', 'Leticia', 'Arauca', 'Mocoa', 'Mitú', 'Puerto Carreño'],\n",
    "    'GDP (USD Billion)': [103.5, 44.1, 22.4, 16.8, 10.5, 7.3, 6.2, 5.1, 4.8, 4.0, 3.8, 3.5, 3.2, 3.0, 2.8, 2.5, 2.3, 2.1, 2.0, 1.8, \n",
    "                          1.7, 1.5, 1.3, 1.2, 1.1, 1.0, 0.9, 0.8, 0.7, 0.6],\n",
    "    'Population (Millions)': [7.18, 2.57, 2.23, 1.23, 1.03, 0.58, 0.48, 0.76, 0.53, 0.52, 0.43, 0.50, 0.45, 0.49, 0.47, 0.35, 0.33, 0.30, \n",
    "                              0.28, 0.25, 0.20, 0.22, 0.13, 0.08, 0.15, 0.05, 0.08, 0.04, 0.01, 0.01],\n",
    "    'Unemployment Rate (%)': [10.5, 11.2, 13.8, 12.4, 10.9, 9.2, 12.0, 16.3, 13.4, 11.6, 10.7, 13.0, 12.9, 13.5, 14.8, 14.1, 15.2, 13.3, \n",
    "                             16.5, 10.0, 17.5, 15.7, 18.2, 14.0, 11.5, 13.6, 12.2, 15.0, 20.0, 22.0],\n",
    "    'Average Age': [32, 31, 30, 29, 30, 33, 32, 28, 31, 29, 32, 30, 31, 29, 28, 30, 31, 32, 29, 31, 28, 27, 26, 27, 29, 26, 29, 28, 25, 24],\n",
    "    'Women (%)': [52, 53, 52, 51, 51, 52, 52, 51, 52, 51, 53, 51, 52, 51, 51, 52, 52, 53, 51, 52, 51, 51, 52, 50, 51, 51, 51, 52, 51, 50],\n",
    "    'Men (%)': [48, 47, 48, 49, 49, 48, 48, 49, 48, 49, 47, 49, 48, 49, 49, 48, 48, 47, 49, 48, 49, 49, 48, 50, 49, 49, 49, 48, 49, 50],\n",
    "    'Budget (USD Billion)': [18, 7.5, 4.2, 3.1, 2.8, 1.5, 1.3, 1.2, 1.1, 0.9, 0.8, 0.8, 0.7, 0.7, 0.6, 0.6, 0.5, 0.5, 0.5, 0.4, 0.4, 0.3, \n",
    "                            0.3, 0.2, 0.2, 0.1, 0.1, 0.1, 0.05, 0.05]\n",
    "}\n",
    "\n",
    "df = pd.DataFrame(data)\n",
    "\n",
    "# Cálculo de media, mediana y desviación estándar para las variables numéricas\n",
    "media = df[['GDP (USD Billion)', 'Population (Millions)', 'Unemployment Rate (%)', 'Average Age', 'Women (%)', 'Men (%)', 'Budget (USD Billion)']].media()\n",
    "mediana = df[['GDP (USD Billion)', 'Population (Millions)', 'Unemployment Rate (%)', 'Average Age', 'Women (%)', 'Men (%)', 'Budget (USD Billion)']].mediana()\n",
    "desviacionEstandar = df[['GDP (USD Billion)', 'Population (Millions)', 'Unemployment Rate (%)', 'Average Age', 'Women (%)', 'Men (%)', 'Budget (USD Billion)']].desviacionEstandar()\n",
    "\n",
    "# Cálculo de la moda para datos categóricos (en este caso, las ciudades)\n",
    "moda_city = df['City'].mode()[0]\n",
    "moda_city_count = df['City'].value_counts()[moda_city]\n",
    "\n",
    "# Mostrar las estadísticas calculadas\n",
    "print(\"Media de cada variable:\")\n",
    "print(media)\n",
    "print(\"\\nMediana de cada variable:\")\n",
    "print(mediana)\n",
    "print(\"\\nDesviación estándar de cada variable:\")\n",
    "print(desviacionEstandar)\n",
    "print(f\"\\nLa moda de la columna 'City' es: {mode_city} con {mode_city_count} repeticiones.\")\n",
    "\n"
   ]
  },
  {
   "cell_type": "code",
   "execution_count": null,
   "id": "b9579dea-bd61-4cea-bc24-f823019c66c8",
   "metadata": {},
   "outputs": [],
   "source": []
  },
  {
   "cell_type": "code",
   "execution_count": null,
   "id": "7f5e675f-64b8-43e2-bfe2-01564b404803",
   "metadata": {},
   "outputs": [],
   "source": []
  },
  {
   "cell_type": "code",
   "execution_count": null,
   "id": "e97b207c-0548-47e8-865c-f76b5e17e1b9",
   "metadata": {},
   "outputs": [],
   "source": []
  },
  {
   "cell_type": "code",
   "execution_count": null,
   "id": "5371d024-ae1c-4048-807d-3f0ea5754997",
   "metadata": {},
   "outputs": [],
   "source": []
  }
 ],
 "metadata": {
  "kernelspec": {
   "display_name": "Python 3 (ipykernel)",
   "language": "python",
   "name": "python3"
  },
  "language_info": {
   "codemirror_mode": {
    "name": "ipython",
    "version": 3
   },
   "file_extension": ".py",
   "mimetype": "text/x-python",
   "name": "python",
   "nbconvert_exporter": "python",
   "pygments_lexer": "ipython3",
   "version": "3.10.14"
  }
 },
 "nbformat": 4,
 "nbformat_minor": 5
}
